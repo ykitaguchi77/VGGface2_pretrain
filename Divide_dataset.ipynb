{
 "cells": [
  {
   "cell_type": "code",
   "execution_count": 46,
   "metadata": {},
   "outputs": [],
   "source": [
    "import glob\n",
    "import re\n",
    "import os\n",
    "import random\n",
    "import time\n",
    "import shutil\n",
    "random.seed(1234)\n",
    "\n",
    "'''\n",
    "新しいフォルダを作成し、データセットをtrainとvalに振り分けるスクリプト\n",
    "\n",
    "train -----n000001 \n",
    "        |--n000002 \n",
    "        |　…\n",
    "        |　…\n",
    "        |--n000009 \n",
    "\n",
    "    ↓\n",
    "\n",
    "train2------train-----n000001 \n",
    "         |         |--n000002 \n",
    "         |         |-- …\n",
    "         |         |--n000009 \n",
    "         |\n",
    "         |---val------n000001 \n",
    "                   |--n000002 \n",
    "                   | 　…\n",
    "                   |--n000009 \n",
    "'''"
   ]
  },
  {
   "cell_type": "code",
   "execution_count": 63,
   "metadata": {
    "tags": [
     "outputPrepend"
    ]
   },
   "outputs": [
    {
     "output_type": "stream",
     "name": "stdout",
     "text": "78.011845588684[sec]\n0/8631 (n008899), elapsed time: 33279.17896986008[sec]\n0/8631 (n008900), elapsed time: 33280.66705703735[sec]\n0/8631 (n008901), elapsed time: 33282.69042444229[sec]\n0/8631 (n008902), elapsed time: 33283.87727737427[sec]\n0/8631 (n008903), elapsed time: 33285.62032413483[sec]\n0/8631 (n008904), elapsed time: 33288.32230091095[sec]\n0/8631 (n008905), elapsed time: 33289.0777990818[sec]\n0/8631 (n008906), elapsed time: 33290.21928858757[sec]\n0/8631 (n008907), elapsed time: 33291.43193602562[sec]\n0/8631 (n008908), elapsed time: 33292.24301862717[sec]\n0/8631 (n008909), elapsed time: 33294.04752397537[sec]\n0/8631 (n008910), elapsed time: 33295.114317417145[sec]\n0/8631 (n008911), elapsed time: 33296.84776139259[sec]\n0/8631 (n008912), elapsed time: 33297.7731051445[sec]\n0/8631 (n008913), elapsed time: 33298.59958410263[sec]\n0/8631 (n008914), elapsed time: 33299.871109724045[sec]\n0/8631 (n008915), elapsed time: 33301.73014140129[sec]\n0/8631 (n008916), elapsed time: 33302.48048901558[sec]\n0/8631 (n008917), elapsed time: 33304.974325180054[sec]\n0/8631 (n008918), elapsed time: 33306.17637515068[sec]\n0/8631 (n008919), elapsed time: 33307.78162097931[sec]\n0/8631 (n008920), elapsed time: 33308.86716890335[sec]\n0/8631 (n008921), elapsed time: 33309.974492549896[sec]\n0/8631 (n008922), elapsed time: 33310.77568984032[sec]\n0/8631 (n008923), elapsed time: 33312.418684244156[sec]\n0/8631 (n008924), elapsed time: 33313.810299158096[sec]\n0/8631 (n008925), elapsed time: 33315.44923949242[sec]\n0/8631 (n008926), elapsed time: 33316.89312839508[sec]\n0/8631 (n008927), elapsed time: 33319.04338765144[sec]\n0/8631 (n008928), elapsed time: 33320.39364218712[sec]\n0/8631 (n008929), elapsed time: 33322.05108952522[sec]\n0/8631 (n008930), elapsed time: 33323.93661189079[sec]\n0/8631 (n008931), elapsed time: 33325.274010419846[sec]\n0/8631 (n008933), elapsed time: 33327.474076509476[sec]\n0/8631 (n008934), elapsed time: 33328.534764528275[sec]\n0/8631 (n008935), elapsed time: 33329.302849531174[sec]\n0/8631 (n008936), elapsed time: 33331.00576400757[sec]\n0/8631 (n008938), elapsed time: 33332.89625263214[sec]\n0/8631 (n008939), elapsed time: 33334.72532057762[sec]\n0/8631 (n008940), elapsed time: 33336.05165338516[sec]\n0/8631 (n008941), elapsed time: 33337.7116189003[sec]\n0/8631 (n008942), elapsed time: 33339.53522562981[sec]\n0/8631 (n008943), elapsed time: 33340.54677248001[sec]\n0/8631 (n008944), elapsed time: 33342.17793297768[sec]\n0/8631 (n008945), elapsed time: 33343.42147040367[sec]\n0/8631 (n008946), elapsed time: 33344.64392161369[sec]\n0/8631 (n008947), elapsed time: 33345.78893280029[sec]\n0/8631 (n008949), elapsed time: 33346.76605987549[sec]\n0/8631 (n008950), elapsed time: 33348.27707695961[sec]\n0/8631 (n008951), elapsed time: 33349.92825126648[sec]\n0/8631 (n008952), elapsed time: 33351.27837586403[sec]\n0/8631 (n008953), elapsed time: 33353.03738951683[sec]\n0/8631 (n008954), elapsed time: 33354.32306790352[sec]\n0/8631 (n008955), elapsed time: 33356.04636859894[sec]\n0/8631 (n008956), elapsed time: 33357.39267253876[sec]\n0/8631 (n008957), elapsed time: 33358.65568447113[sec]\n0/8631 (n008959), elapsed time: 33360.38351011276[sec]\n0/8631 (n008960), elapsed time: 33361.39845824242[sec]\n0/8631 (n008961), elapsed time: 33362.74735665321[sec]\n0/8631 (n008962), elapsed time: 33363.93538784981[sec]\n0/8631 (n008963), elapsed time: 33364.754148721695[sec]\n0/8631 (n008964), elapsed time: 33366.15906071663[sec]\n0/8631 (n008965), elapsed time: 33367.289291381836[sec]\n0/8631 (n008966), elapsed time: 33368.46362709999[sec]\n0/8631 (n008967), elapsed time: 33369.932796001434[sec]\n0/8631 (n008968), elapsed time: 33370.703805208206[sec]\n0/8631 (n008969), elapsed time: 33372.32949876785[sec]\n0/8631 (n008970), elapsed time: 33373.59454369545[sec]\n0/8631 (n008971), elapsed time: 33374.79760599136[sec]\n0/8631 (n008972), elapsed time: 33377.00673079491[sec]\n0/8631 (n008973), elapsed time: 33377.5955760479[sec]\n0/8631 (n008974), elapsed time: 33379.38000869751[sec]\n0/8631 (n008975), elapsed time: 33380.42682790756[sec]\n0/8631 (n008976), elapsed time: 33381.74654793739[sec]\n0/8631 (n008977), elapsed time: 33383.34123158455[sec]\n0/8631 (n008978), elapsed time: 33384.257974624634[sec]\n0/8631 (n008979), elapsed time: 33385.359924316406[sec]\n0/8631 (n008980), elapsed time: 33387.09900379181[sec]\n0/8631 (n008981), elapsed time: 33388.407512426376[sec]\n0/8631 (n008982), elapsed time: 33389.464213609695[sec]\n0/8631 (n008983), elapsed time: 33391.21158885956[sec]\n0/8631 (n008984), elapsed time: 33392.41691827774[sec]\n0/8631 (n008985), elapsed time: 33393.61602640152[sec]\n0/8631 (n008986), elapsed time: 33394.722116947174[sec]\n0/8631 (n008987), elapsed time: 33396.38528585434[sec]\n0/8631 (n008988), elapsed time: 33397.306060791016[sec]\n0/8631 (n008990), elapsed time: 33398.11977148056[sec]\n0/8631 (n008991), elapsed time: 33399.817137002945[sec]\n0/8631 (n008992), elapsed time: 33401.15100669861[sec]\n0/8631 (n008993), elapsed time: 33402.249494075775[sec]\n0/8631 (n008994), elapsed time: 33403.215472221375[sec]\n0/8631 (n008995), elapsed time: 33404.30084204674[sec]\n0/8631 (n008996), elapsed time: 33405.538924217224[sec]\n0/8631 (n008997), elapsed time: 33406.12741065025[sec]\n0/8631 (n008998), elapsed time: 33407.97478723526[sec]\n0/8631 (n008999), elapsed time: 33409.57500100136[sec]\n0/8631 (n009000), elapsed time: 33410.71833753586[sec]\n0/8631 (n009001), elapsed time: 33412.13031101227[sec]\n0/8631 (n009002), elapsed time: 33413.62846803665[sec]\n0/8631 (n009003), elapsed time: 33414.6263024807[sec]\n0/8631 (n009004), elapsed time: 33415.43956208229[sec]\n0/8631 (n009005), elapsed time: 33417.03025984764[sec]\n0/8631 (n009006), elapsed time: 33418.18546819687[sec]\n0/8631 (n009007), elapsed time: 33419.277826070786[sec]\n0/8631 (n009008), elapsed time: 33420.6623814106[sec]\n0/8631 (n009009), elapsed time: 33422.5658826828[sec]\n0/8631 (n009010), elapsed time: 33424.04584646225[sec]\n0/8631 (n009011), elapsed time: 33424.96226668358[sec]\n0/8631 (n009012), elapsed time: 33426.11331796646[sec]\n0/8631 (n009013), elapsed time: 33427.11280846596[sec]\n0/8631 (n009015), elapsed time: 33427.85369062424[sec]\n0/8631 (n009016), elapsed time: 33428.91292119026[sec]\n0/8631 (n009017), elapsed time: 33430.374418735504[sec]\n0/8631 (n009018), elapsed time: 33431.766937971115[sec]\n0/8631 (n009019), elapsed time: 33432.80252838135[sec]\n0/8631 (n009020), elapsed time: 33433.767210006714[sec]\n0/8631 (n009021), elapsed time: 33434.78925037384[sec]\n0/8631 (n009022), elapsed time: 33436.29690718651[sec]\n0/8631 (n009023), elapsed time: 33436.99730563164[sec]\n0/8631 (n009024), elapsed time: 33437.95939683914[sec]\n0/8631 (n009025), elapsed time: 33439.17058682442[sec]\n0/8631 (n009026), elapsed time: 33440.484367609024[sec]\n0/8631 (n009027), elapsed time: 33441.60523200035[sec]\n0/8631 (n009029), elapsed time: 33442.67170381546[sec]\n0/8631 (n009030), elapsed time: 33444.62198328972[sec]\n0/8631 (n009031), elapsed time: 33446.02945780754[sec]\n0/8631 (n009032), elapsed time: 33447.455956697464[sec]\n0/8631 (n009033), elapsed time: 33449.39021348953[sec]\n0/8631 (n009034), elapsed time: 33450.306378126144[sec]\n0/8631 (n009035), elapsed time: 33452.36552190781[sec]\n0/8631 (n009036), elapsed time: 33454.362713098526[sec]\n0/8631 (n009037), elapsed time: 33456.50694823265[sec]\n0/8631 (n009038), elapsed time: 33457.367847681046[sec]\n0/8631 (n009039), elapsed time: 33459.00398731232[sec]\n0/8631 (n009040), elapsed time: 33459.97803401947[sec]\n0/8631 (n009041), elapsed time: 33460.825942754745[sec]\n0/8631 (n009042), elapsed time: 33461.85008573532[sec]\n0/8631 (n009043), elapsed time: 33463.59221148491[sec]\n0/8631 (n009044), elapsed time: 33464.76755142212[sec]\n0/8631 (n009045), elapsed time: 33466.10040783882[sec]\n0/8631 (n009046), elapsed time: 33468.14641785622[sec]\n0/8631 (n009047), elapsed time: 33469.98381447792[sec]\n0/8631 (n009048), elapsed time: 33471.97973871231[sec]\n0/8631 (n009049), elapsed time: 33473.872193574905[sec]\n0/8631 (n009050), elapsed time: 33475.09188127518[sec]\n0/8631 (n009051), elapsed time: 33476.502697229385[sec]\n0/8631 (n009052), elapsed time: 33478.62107658386[sec]\n0/8631 (n009053), elapsed time: 33480.32187342644[sec]\n0/8631 (n009054), elapsed time: 33481.29944849014[sec]\n0/8631 (n009055), elapsed time: 33482.649099588394[sec]\n0/8631 (n009056), elapsed time: 33484.162142276764[sec]\n0/8631 (n009057), elapsed time: 33485.53240132332[sec]\n0/8631 (n009058), elapsed time: 33486.15661287308[sec]\n0/8631 (n009059), elapsed time: 33487.72843670845[sec]\n0/8631 (n009060), elapsed time: 33489.04123926163[sec]\n0/8631 (n009061), elapsed time: 33490.4757130146[sec]\n0/8631 (n009062), elapsed time: 33491.58092665672[sec]\n0/8631 (n009063), elapsed time: 33493.05409407616[sec]\n0/8631 (n009064), elapsed time: 33494.03457450867[sec]\n0/8631 (n009065), elapsed time: 33495.07867002487[sec]\n0/8631 (n009066), elapsed time: 33496.39911675453[sec]\n0/8631 (n009067), elapsed time: 33497.147136449814[sec]\n0/8631 (n009068), elapsed time: 33498.98225188255[sec]\n0/8631 (n009069), elapsed time: 33500.872579813[sec]\n0/8631 (n009070), elapsed time: 33502.349489450455[sec]\n0/8631 (n009071), elapsed time: 33503.91289019585[sec]\n0/8631 (n009072), elapsed time: 33504.71718668938[sec]\n0/8631 (n009073), elapsed time: 33505.761311769485[sec]\n0/8631 (n009074), elapsed time: 33507.19324803352[sec]\n0/8631 (n009075), elapsed time: 33509.10472345352[sec]\n0/8631 (n009076), elapsed time: 33510.113963127136[sec]\n0/8631 (n009077), elapsed time: 33511.49982023239[sec]\n0/8631 (n009078), elapsed time: 33512.96746277809[sec]\n0/8631 (n009079), elapsed time: 33514.27830576897[sec]\n0/8631 (n009080), elapsed time: 33515.02009320259[sec]\n0/8631 (n009081), elapsed time: 33516.415695905685[sec]\n0/8631 (n009082), elapsed time: 33517.80070948601[sec]\n0/8631 (n009083), elapsed time: 33518.826145887375[sec]\n0/8631 (n009084), elapsed time: 33520.58735227585[sec]\n0/8631 (n009085), elapsed time: 33521.238941669464[sec]\n0/8631 (n009086), elapsed time: 33522.497193813324[sec]\n0/8631 (n009087), elapsed time: 33523.35955476761[sec]\n0/8631 (n009088), elapsed time: 33524.434711933136[sec]\n0/8631 (n009089), elapsed time: 33525.347631931305[sec]\n0/8631 (n009091), elapsed time: 33526.862278461456[sec]\n0/8631 (n009092), elapsed time: 33528.239572286606[sec]\n0/8631 (n009093), elapsed time: 33529.11976456642[sec]\n0/8631 (n009094), elapsed time: 33530.537638664246[sec]\n0/8631 (n009095), elapsed time: 33531.5154709816[sec]\n0/8631 (n009096), elapsed time: 33532.97855305672[sec]\n0/8631 (n009097), elapsed time: 33534.46689534187[sec]\n0/8631 (n009098), elapsed time: 33535.88830113411[sec]\n0/8631 (n009099), elapsed time: 33537.52013039589[sec]\n0/8631 (n009100), elapsed time: 33539.333199739456[sec]\n0/8631 (n009101), elapsed time: 33540.20951509476[sec]\n0/8631 (n009102), elapsed time: 33541.3206243515[sec]\n0/8631 (n009103), elapsed time: 33543.31106686592[sec]\n0/8631 (n009104), elapsed time: 33545.09697127342[sec]\n0/8631 (n009105), elapsed time: 33546.344391822815[sec]\n0/8631 (n009106), elapsed time: 33547.70048069954[sec]\n0/8631 (n009107), elapsed time: 33548.205627441406[sec]\n0/8631 (n009108), elapsed time: 33549.55819439888[sec]\n0/8631 (n009109), elapsed time: 33551.54862213135[sec]\n0/8631 (n009110), elapsed time: 33552.651792764664[sec]\n0/8631 (n009111), elapsed time: 33553.628054142[sec]\n0/8631 (n009112), elapsed time: 33554.5439248085[sec]\n0/8631 (n009113), elapsed time: 33555.629249572754[sec]\n0/8631 (n009115), elapsed time: 33557.183089494705[sec]\n0/8631 (n009116), elapsed time: 33558.105608940125[sec]\n0/8631 (n009117), elapsed time: 33559.77789449692[sec]\n0/8631 (n009118), elapsed time: 33560.36920976639[sec]\n0/8631 (n009119), elapsed time: 33561.50536108017[sec]\n0/8631 (n009120), elapsed time: 33562.59943699837[sec]\n0/8631 (n009121), elapsed time: 33564.35891413689[sec]\n0/8631 (n009122), elapsed time: 33566.076429605484[sec]\n0/8631 (n009124), elapsed time: 33567.563599824905[sec]\n0/8631 (n009125), elapsed time: 33568.972648620605[sec]\n0/8631 (n009126), elapsed time: 33570.22883105278[sec]\n0/8631 (n009127), elapsed time: 33571.69351148605[sec]\n0/8631 (n009129), elapsed time: 33572.49660038948[sec]\n0/8631 (n009130), elapsed time: 33573.75999855995[sec]\n0/8631 (n009131), elapsed time: 33575.308034181595[sec]\n0/8631 (n009132), elapsed time: 33576.6917347908[sec]\n0/8631 (n009133), elapsed time: 33578.24437999725[sec]\n0/8631 (n009134), elapsed time: 33579.98551821709[sec]\n0/8631 (n009135), elapsed time: 33581.35823535919[sec]\n0/8631 (n009136), elapsed time: 33583.58766126633[sec]\n0/8631 (n009137), elapsed time: 33585.534382104874[sec]\n0/8631 (n009138), elapsed time: 33586.94607710838[sec]\n0/8631 (n009139), elapsed time: 33588.45201277733[sec]\n0/8631 (n009140), elapsed time: 33589.71099972725[sec]\n0/8631 (n009141), elapsed time: 33590.84725141525[sec]\n0/8631 (n009142), elapsed time: 33591.75487732887[sec]\n0/8631 (n009143), elapsed time: 33593.39845752716[sec]\n0/8631 (n009144), elapsed time: 33595.39617872238[sec]\n0/8631 (n009145), elapsed time: 33597.211854696274[sec]\n0/8631 (n009146), elapsed time: 33597.90320968628[sec]\n0/8631 (n009147), elapsed time: 33600.09980082512[sec]\n0/8631 (n009148), elapsed time: 33600.56701827049[sec]\n0/8631 (n009149), elapsed time: 33601.7726392746[sec]\n0/8631 (n009150), elapsed time: 33603.285757780075[sec]\n0/8631 (n009151), elapsed time: 33604.63908743858[sec]\n0/8631 (n009152), elapsed time: 33606.26955652237[sec]\n0/8631 (n009153), elapsed time: 33607.27497053146[sec]\n0/8631 (n009154), elapsed time: 33608.49458050728[sec]\n0/8631 (n009155), elapsed time: 33609.57812047005[sec]\n0/8631 (n009156), elapsed time: 33611.364604473114[sec]\n0/8631 (n009157), elapsed time: 33612.60380220413[sec]\n0/8631 (n009158), elapsed time: 33614.028409957886[sec]\n0/8631 (n009159), elapsed time: 33615.67963838577[sec]\n0/8631 (n009160), elapsed time: 33617.03312277794[sec]\n0/8631 (n009161), elapsed time: 33618.88800597191[sec]\n0/8631 (n009162), elapsed time: 33620.11429619789[sec]\n0/8631 (n009163), elapsed time: 33621.33636569977[sec]\n0/8631 (n009164), elapsed time: 33623.359288454056[sec]\n0/8631 (n009165), elapsed time: 33625.05617022514[sec]\n0/8631 (n009166), elapsed time: 33626.92404413223[sec]\n0/8631 (n009167), elapsed time: 33628.34748673439[sec]\n0/8631 (n009168), elapsed time: 33629.30562186241[sec]\n0/8631 (n009169), elapsed time: 33630.576848983765[sec]\n0/8631 (n009170), elapsed time: 33631.96408700943[sec]\n0/8631 (n009171), elapsed time: 33634.60620498657[sec]\n0/8631 (n009172), elapsed time: 33635.62497878075[sec]\n0/8631 (n009173), elapsed time: 33636.65966081619[sec]\n0/8631 (n009174), elapsed time: 33638.07666635513[sec]\n0/8631 (n009176), elapsed time: 33638.62662577629[sec]\n0/8631 (n009177), elapsed time: 33640.187725782394[sec]\n0/8631 (n009179), elapsed time: 33641.112111091614[sec]\n0/8631 (n009180), elapsed time: 33642.512040138245[sec]\n0/8631 (n009181), elapsed time: 33643.42921447754[sec]\n0/8631 (n009182), elapsed time: 33643.97291088104[sec]\n0/8631 (n009183), elapsed time: 33645.4812104702[sec]\n0/8631 (n009184), elapsed time: 33647.036872148514[sec]\n0/8631 (n009186), elapsed time: 33648.18871808052[sec]\n0/8631 (n009187), elapsed time: 33649.221791267395[sec]\n0/8631 (n009188), elapsed time: 33651.19283866882[sec]\n0/8631 (n009189), elapsed time: 33652.14092063904[sec]\n0/8631 (n009190), elapsed time: 33653.01000165939[sec]\n0/8631 (n009191), elapsed time: 33654.045868873596[sec]\n0/8631 (n009192), elapsed time: 33655.12351560593[sec]\n0/8631 (n009193), elapsed time: 33656.652893066406[sec]\n0/8631 (n009194), elapsed time: 33658.50616502762[sec]\n0/8631 (n009195), elapsed time: 33659.507298231125[sec]\n0/8631 (n009196), elapsed time: 33660.99288511276[sec]\n0/8631 (n009197), elapsed time: 33662.70718860626[sec]\n0/8631 (n009198), elapsed time: 33664.49282312393[sec]\n0/8631 (n009200), elapsed time: 33665.81985235214[sec]\n0/8631 (n009201), elapsed time: 33667.83992791176[sec]\n0/8631 (n009202), elapsed time: 33668.875545978546[sec]\n0/8631 (n009203), elapsed time: 33670.077477931976[sec]\n0/8631 (n009204), elapsed time: 33671.53039646149[sec]\n0/8631 (n009205), elapsed time: 33673.10164189339[sec]\n0/8631 (n009207), elapsed time: 33674.224521398544[sec]\n0/8631 (n009208), elapsed time: 33675.56660223007[sec]\n0/8631 (n009209), elapsed time: 33676.55245637894[sec]\n0/8631 (n009210), elapsed time: 33677.556478500366[sec]\n0/8631 (n009211), elapsed time: 33678.61790370941[sec]\n0/8631 (n009212), elapsed time: 33680.03786969185[sec]\n0/8631 (n009214), elapsed time: 33681.12333059311[sec]\n0/8631 (n009215), elapsed time: 33682.4734916687[sec]\n0/8631 (n009216), elapsed time: 33684.424271821976[sec]\n0/8631 (n009217), elapsed time: 33685.74958348274[sec]\n0/8631 (n009218), elapsed time: 33687.37821793556[sec]\n0/8631 (n009219), elapsed time: 33688.78685760498[sec]\n0/8631 (n009220), elapsed time: 33691.15466761589[sec]\n0/8631 (n009221), elapsed time: 33692.77622413635[sec]\n0/8631 (n009222), elapsed time: 33694.46898698807[sec]\n0/8631 (n009223), elapsed time: 33696.12942862511[sec]\n0/8631 (n009224), elapsed time: 33697.11065030098[sec]\n0/8631 (n009226), elapsed time: 33698.44978761673[sec]\n0/8631 (n009227), elapsed time: 33700.30558204651[sec]\n0/8631 (n009228), elapsed time: 33701.8035800457[sec]\n0/8631 (n009229), elapsed time: 33702.83525824547[sec]\n0/8631 (n009230), elapsed time: 33704.641798496246[sec]\n0/8631 (n009231), elapsed time: 33706.481197834015[sec]\n0/8631 (n009233), elapsed time: 33708.19562506676[sec]\n0/8631 (n009234), elapsed time: 33709.52948784828[sec]\n0/8631 (n009236), elapsed time: 33710.63298225403[sec]\n0/8631 (n009237), elapsed time: 33712.20547866821[sec]\n0/8631 (n009238), elapsed time: 33713.604774713516[sec]\n0/8631 (n009239), elapsed time: 33715.0834774971[sec]\n0/8631 (n009240), elapsed time: 33716.09279131889[sec]\n0/8631 (n009241), elapsed time: 33717.18533039093[sec]\n0/8631 (n009242), elapsed time: 33718.78379225731[sec]\n0/8631 (n009243), elapsed time: 33720.520510435104[sec]\n0/8631 (n009244), elapsed time: 33721.28493094444[sec]\n0/8631 (n009245), elapsed time: 33722.998138189316[sec]\n0/8631 (n009246), elapsed time: 33724.376000881195[sec]\n0/8631 (n009247), elapsed time: 33725.860394477844[sec]\n0/8631 (n009248), elapsed time: 33726.912244319916[sec]\n0/8631 (n009249), elapsed time: 33727.88561415672[sec]\n0/8631 (n009250), elapsed time: 33729.16061043739[sec]\n0/8631 (n009251), elapsed time: 33730.36889576912[sec]\n0/8631 (n009252), elapsed time: 33731.954545259476[sec]\n0/8631 (n009253), elapsed time: 33732.94325590134[sec]\n0/8631 (n009254), elapsed time: 33734.52575087547[sec]\n0/8631 (n009255), elapsed time: 33735.80106759071[sec]\n0/8631 (n009256), elapsed time: 33736.768347263336[sec]\n0/8631 (n009257), elapsed time: 33737.96377682686[sec]\n0/8631 (n009258), elapsed time: 33739.42227268219[sec]\n0/8631 (n009259), elapsed time: 33741.108810186386[sec]\n0/8631 (n009260), elapsed time: 33742.5007891655[sec]\n0/8631 (n009261), elapsed time: 33743.58682847023[sec]\n0/8631 (n009262), elapsed time: 33744.56593418121[sec]\n0/8631 (n009263), elapsed time: 33746.610517024994[sec]\n0/8631 (n009264), elapsed time: 33748.46002840996[sec]\n0/8631 (n009265), elapsed time: 33749.75940942764[sec]\n0/8631 (n009266), elapsed time: 33750.66871881485[sec]\n0/8631 (n009267), elapsed time: 33752.046922683716[sec]\n0/8631 (n009268), elapsed time: 33753.85099339485[sec]\n0/8631 (n009269), elapsed time: 33755.22831487656[sec]\n0/8631 (n009270), elapsed time: 33756.285643815994[sec]\n0/8631 (n009271), elapsed time: 33758.15892791748[sec]\n0/8631 (n009272), elapsed time: 33759.60248732567[sec]\n0/8631 (n009273), elapsed time: 33761.01402544975[sec]\n0/8631 (n009274), elapsed time: 33761.72708249092[sec]\n0/8631 (n009275), elapsed time: 33763.837569236755[sec]\n0/8631 (n009276), elapsed time: 33764.503459692[sec]\n0/8631 (n009277), elapsed time: 33765.97074627876[sec]\n0/8631 (n009278), elapsed time: 33766.63562464714[sec]\n0/8631 (n009279), elapsed time: 33768.12018227577[sec]\nProcess done!!\nelapsed_time:33768.12386441231[sec]\n"
    }
   ],
   "source": [
    "#処理時間の計測\n",
    "start = time.time()\n",
    "\n",
    "\n",
    "#test→test1(test,val)\n",
    "\n",
    "filelist = glob.glob('C:\\\\Datasets\\\\VGGface2\\\\test\\\\*')\n",
    "\n",
    "h=0\n",
    "for i in filelist:\n",
    "    labels = os.path.basename(i)\n",
    "    files = glob.glob(i+'\\\\*.jpg')\n",
    "    \n",
    "    #trainとvalのフォルダを作成。すでに存在する場合には消去して作り直す\n",
    "    for j in ['train', 'val']:\n",
    "        targetpath = 'C:\\\\Datasets\\\\VGGface2\\\\test2\\\\'+j+'\\\\'+labels\n",
    "        if os.path.exists(targetpath):\n",
    "            shutil.rmtree(targetpath)\n",
    "        os.makedirs(targetpath, exist_ok=True)\n",
    "\n",
    "    train = random.sample(files, int(len(files)*0.8))\n",
    "    val = [x for x in files if x not in train]\n",
    "\n",
    "    for k in train:\n",
    "        shutil.copy(k, 'C:\\\\Datasets\\\\VGGface2\\\\test2\\\\train\\\\'+labels)\n",
    "    for k in val:\n",
    "        shutil.copy(k, 'C:\\\\Datasets\\\\VGGface2\\\\test2\\\\val\\\\'+labels)\n",
    "\n",
    "    h+=1\n",
    "    elapsed_time = elapsed_time = time.time() - start\n",
    "    print(str(h)+ '/'+ str(len(filelist)) + ' ('+labels+ '), elapsed time: '+ str(elapsed_time) + '[sec]')\n",
    "\n",
    "\n",
    "\n",
    "#train→train1(test,val)\n",
    "\n",
    "filelist = glob.glob('C:\\\\Datasets\\\\VGGface2\\\\train\\\\*')\n",
    "\n",
    "h=0\n",
    "for i in filelist:\n",
    "    labels = os.path.basename(i)\n",
    "    files = glob.glob(i+'\\\\*.jpg')\n",
    "    \n",
    "    #trainとvalのフォルダを作成。すでに存在する場合には消去して作り直す\n",
    "    for j in ['train', 'val']:\n",
    "        targetpath = 'C:\\\\Datasets\\\\VGGface2\\\\train2\\\\'+j+'\\\\'+labels\n",
    "        if os.path.exists(targetpath):\n",
    "            shutil.rmtree(targetpath)\n",
    "        os.makedirs(targetpath, exist_ok=True)\n",
    "\n",
    "    train = random.sample(files, int(len(files)*0.8))\n",
    "    val = [x for x in files if x not in train]\n",
    "\n",
    "    for k in train:\n",
    "        shutil.copy(k, 'C:\\\\Datasets\\\\VGGface2\\\\train2\\\\train\\\\'+labels)\n",
    "    for k in val:\n",
    "        shutil.copy(k, 'C:\\\\Datasets\\\\VGGface2\\\\train2\\\\val\\\\'+labels)\n",
    "\n",
    "    h+=1\n",
    "    elapsed_time = elapsed_time = time.time() - start\n",
    "    print(str(h)+ '/'+ str(len(filelist)) + ' ('+labels+ '), elapsed time: '+ str(elapsed_time) + '[sec]')\n",
    "\n",
    "print('Process done!!')\n",
    "elapsed_time = time.time() - start\n",
    "print (\"elapsed_time:{0}\".format(elapsed_time) + \"[sec]\")"
   ]
  }
 ],
 "metadata": {
  "language_info": {
   "codemirror_mode": {
    "name": "ipython",
    "version": 3
   },
   "file_extension": ".py",
   "mimetype": "text/x-python",
   "name": "python",
   "nbconvert_exporter": "python",
   "pygments_lexer": "ipython3",
   "version": "3.7.6-final"
  },
  "orig_nbformat": 2,
  "kernelspec": {
   "name": "python37664bit7852f1e299dd41849f14c97b75dca42e",
   "display_name": "Python 3.7.6 64-bit"
  }
 },
 "nbformat": 4,
 "nbformat_minor": 2
}